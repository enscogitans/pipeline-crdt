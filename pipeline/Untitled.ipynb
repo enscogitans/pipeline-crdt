{
 "cells": [
  {
   "cell_type": "code",
   "execution_count": 1,
   "id": "226eeeb6",
   "metadata": {},
   "outputs": [],
   "source": [
    "import matplotlib.pyplot as plt\n",
    "import sys\n",
    "from PIL import Image"
   ]
  },
  {
   "cell_type": "code",
   "execution_count": 2,
   "id": "64345fed",
   "metadata": {},
   "outputs": [],
   "source": [
    "def combine(images):\n",
    "    w, h = images[0].size\n",
    "#     new_im = Image.new('RGB', (w * 2, h * 2))\n",
    "#     new_im.paste(images[0], (0,0))\n",
    "#     new_im.paste(images[1], (w,0))\n",
    "#     new_im.paste(images[2], (0,h))\n",
    "#     new_im.paste(images[3], (w,h))\n",
    "    new_im = Image.new('RGB', (w * 4, h))\n",
    "    new_im.paste(images[0], (0,0))\n",
    "    new_im.paste(images[1], (w,0))\n",
    "    new_im.paste(images[2], (2*w,0))\n",
    "    new_im.paste(images[3], (3*w,0))\n",
    "    return new_im"
   ]
  },
  {
   "cell_type": "code",
   "execution_count": 3,
   "id": "0530c83c",
   "metadata": {},
   "outputs": [],
   "source": [
    "from pathlib import Path"
   ]
  },
  {
   "cell_type": "code",
   "execution_count": 10,
   "id": "65be5db6",
   "metadata": {},
   "outputs": [],
   "source": [
    "ims1 = sorted(Path('1').iterdir())\n",
    "ims2 = sorted(Path('2').iterdir())\n",
    "ims3 = sorted(Path('3').iterdir())\n",
    "ims4 = sorted(Path('4').iterdir())"
   ]
  },
  {
   "cell_type": "code",
   "execution_count": 11,
   "id": "773b0ba6",
   "metadata": {},
   "outputs": [],
   "source": [
    "end = max(map(lambda p: int(p.stem), [ims1[-1], ims2[-1], ims3[-1], ims4[-1]]))"
   ]
  },
  {
   "cell_type": "code",
   "execution_count": 12,
   "id": "1e345584",
   "metadata": {},
   "outputs": [],
   "source": [
    "lsts = []\n",
    "\n",
    "for ims in [ims1, ims2, ims3, ims4]:\n",
    "    lst = [ims[0]] * (int(ims[0].stem) - 1)\n",
    "    for k in range(1, len(ims)):\n",
    "        i = int(ims[k-1].stem)\n",
    "        j = int(ims[k].stem)\n",
    "        lst += [ims[k-1]] * (j - i)\n",
    "    lst += [ims[k]] * (end - j)\n",
    "    lsts.append(lst)\n"
   ]
  },
  {
   "cell_type": "code",
   "execution_count": 13,
   "id": "efd1cc4f",
   "metadata": {},
   "outputs": [],
   "source": [
    "for i, lst in enumerate(zip(*lsts), start=1):\n",
    "    ims = [Image.open(x) for x in lst]\n",
    "    im = combine(ims)\n",
    "    name = f\"{i}\".zfill(4)\n",
    "    im.save(f\"res/{name}.png\")\n",
    "    im.close()\n",
    "    for im in ims:\n",
    "        im.close()"
   ]
  },
  {
   "cell_type": "raw",
   "id": "05ebd1dd",
   "metadata": {},
   "source": [
    "ims = sorted(Path('res').iterdir(), key=lambda p: int(p.stem))\n",
    "ims = [Image.open(x) for x in ims]"
   ]
  },
  {
   "cell_type": "raw",
   "id": "a444d8b7",
   "metadata": {},
   "source": [
    "cd res\n",
    "# ffmpeg -framerate 3 -i %d.png -c:v libx264 -pix_fmt yuv420p out.mp4\n",
    "ffmpeg -framerate 1.5 -i %4d.png -c:v libx264 -pix_fmt yuv420p out.mp4"
   ]
  },
  {
   "cell_type": "code",
   "execution_count": 133,
   "id": "fccff3c7",
   "metadata": {},
   "outputs": [
    {
     "name": "stdout",
     "output_type": "stream",
     "text": [
      "^C\n"
     ]
    }
   ],
   "source": [
    "!cd res && ffmpeg -framerate 30 -i \"%d.png\" -c:v libx264 -pix_fmt yuv420p out.mp4"
   ]
  },
  {
   "cell_type": "raw",
   "id": "66fc1acf",
   "metadata": {},
   "source": [
    "im = Image.new('RGB', (2*w, 2*h))\n",
    "im.save('res.gif', save_all=True, append_images=ims)"
   ]
  },
  {
   "cell_type": "code",
   "execution_count": null,
   "id": "0bfe947f",
   "metadata": {},
   "outputs": [],
   "source": []
  },
  {
   "cell_type": "code",
   "execution_count": null,
   "id": "213c95ba",
   "metadata": {},
   "outputs": [],
   "source": []
  },
  {
   "cell_type": "code",
   "execution_count": null,
   "id": "38d69d7e",
   "metadata": {},
   "outputs": [],
   "source": []
  }
 ],
 "metadata": {
  "kernelspec": {
   "display_name": "Python 3 (ipykernel)",
   "language": "python",
   "name": "python3"
  },
  "language_info": {
   "codemirror_mode": {
    "name": "ipython",
    "version": 3
   },
   "file_extension": ".py",
   "mimetype": "text/x-python",
   "name": "python",
   "nbconvert_exporter": "python",
   "pygments_lexer": "ipython3",
   "version": "3.9.6"
  }
 },
 "nbformat": 4,
 "nbformat_minor": 5
}
